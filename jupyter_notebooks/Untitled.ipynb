{
 "cells": [
  {
   "cell_type": "code",
   "execution_count": 7,
   "metadata": {},
   "outputs": [],
   "source": [
    "import pandas as pd\n",
    "from rdkit.Chem import AllChem\n",
    "from reactant_retrieval_and_scoring.reactant_retrieval_and_scoring import complete_synthons\n",
    "from chemistry_methods.fingerprints import construct_ecfp, construct_hsfp\n",
    "from chemistry_methods.drawing import draw_molecule"
   ]
  },
  {
   "cell_type": "code",
   "execution_count": null,
   "metadata": {},
   "outputs": [],
   "source": [
    "reactant_search_pool = pd.read_pickle(\"D:/Datasets/one_step_retrosynth_ai_output/unique_reactants_pool.pkl\")\n",
    "synthon_mol = AllChem.MolFromSmarts(\"CCC-*-CCC\")\n",
    "AllChem.SanitizeMol(synthon_mol)\n",
    "synthon_fp = construct_ecfp(synthon_mol, 2, 1024)"
   ]
  },
  {
   "cell_type": "code",
   "execution_count": null,
   "metadata": {},
   "outputs": [],
   "source": [
    "reactant_candidates = complete_synthons(synthon_mol=synthon_mol,\n",
    "                                        synthon_fp=synthon_fp,\n",
    "                                        reactant_search_pool=reactant_search_pool,\n",
    "                                        reactant_ids_per_class=None,\n",
    "                                        top_n=20,\n",
    "                                        fetch_priority=\"superstructures\")"
   ]
  },
  {
   "cell_type": "code",
   "execution_count": null,
   "metadata": {
    "scrolled": false
   },
   "outputs": [],
   "source": [
    "for r in reactant_candidates:\n",
    "    display(draw_molecule(reactant_search_pool.values[r[0]][1]))\n",
    "    print(r[1])"
   ]
  },
  {
   "cell_type": "code",
   "execution_count": 14,
   "metadata": {
    "scrolled": false
   },
   "outputs": [
    {
     "name": "stdout",
     "output_type": "stream",
     "text": [
      "dict_values([1, 1, 2, 2, 2, 1, 1, 1, 1, 1, 1, 1, 1, 1])\n",
      "dict_values([1, 1, 2, 2, 2, 1, 1, 1, 1, 1, 1, 1, 1, 1])\n"
     ]
    }
   ],
   "source": [
    "from collections import Counter\n",
    "\n",
    "mol = AllChem.MolFromSmiles(\"COC1=CC=C(C=C1)C1=CC=CC=C1C=O\")\n",
    "ecfps, hsfps = [], []\n",
    "\n",
    "for bond in mol1.GetBonds():\n",
    "    mol_ecfp = construct_ecfp(mol, 2, 1024, from_atoms=[bond.GetBeginAtomIdx(), bond.GetEndAtomIdx()], output_type=\"np_array\")\n",
    "    mol_hsfp = construct_hsfp(mol, 2, 1024, from_atoms=[bond.GetBeginAtomIdx(), bond.GetEndAtomIdx()], neighbourhood_ext=2)\n",
    "    \n",
    "    ecfps.append(mol_ecfp)\n",
    "    hsfps.append(mol_hsfp)\n",
    "    \n",
    "    #display(draw_molecule(mol, highlight_bonds=[[bond.GetIdx()]]))\n",
    "\n",
    "print(Counter(tuple(x) for x in ecfps).values())\n",
    "print(Counter(tuple(x) for x in hsfps).values())"
   ]
  },
  {
   "cell_type": "code",
   "execution_count": null,
   "metadata": {},
   "outputs": [],
   "source": []
  }
 ],
 "metadata": {
  "kernelspec": {
   "display_name": "Python 3",
   "language": "python",
   "name": "python3"
  },
  "language_info": {
   "codemirror_mode": {
    "name": "ipython",
    "version": 3
   },
   "file_extension": ".py",
   "mimetype": "text/x-python",
   "name": "python",
   "nbconvert_exporter": "python",
   "pygments_lexer": "ipython3",
   "version": "3.6.8"
  }
 },
 "nbformat": 4,
 "nbformat_minor": 2
}
