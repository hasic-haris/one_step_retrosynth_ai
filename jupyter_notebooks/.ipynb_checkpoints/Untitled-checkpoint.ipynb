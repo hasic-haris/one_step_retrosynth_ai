{
 "cells": [
  {
   "cell_type": "code",
   "execution_count": 1,
   "metadata": {},
   "outputs": [],
   "source": [
    "import pandas as pd\n",
    "from rdkit.Chem import AllChem\n",
    "from reactant_retrieval_and_scoring.reactant_retrieval_and_scoring import complete_synthons\n",
    "from chemistry_methods.fingerprints import construct_ecfp\n",
    "from chemistry_methods.drawing import draw_molecule"
   ]
  },
  {
   "cell_type": "code",
   "execution_count": 2,
   "metadata": {},
   "outputs": [
    {
     "name": "stdout",
     "output_type": "stream",
     "text": [
      "Index(['id', 'canonical_smiles', 'mol_object', 'ecfp_1024', 'num_atoms',\n",
      "       'reaction_class'],\n",
      "      dtype='object')\n"
     ]
    }
   ],
   "source": [
    "reactant_search_pool = pd.read_pickle(\"D:/Datasets/one_step_retrosynth_ai_output/unique_reactants_pool.pkl\")\n",
    "print(reactant_search_pool.columns)\n",
    "synthon_mol = AllChem.MolFromSmiles(\"CCC*CCC\")\n",
    "synthon_fp = construct_ecfp(synthon_mol, 2, 1024)\n"
   ]
  },
  {
   "cell_type": "code",
   "execution_count": 3,
   "metadata": {},
   "outputs": [],
   "source": [
    "reactant_candidates = complete_synthons(synthon_mol=synthon_mol,\n",
    "                                        synthon_fp=synthon_fp,\n",
    "                                        reactant_search_pool=reactant_search_pool,\n",
    "                                        reactant_ids_per_class=None,\n",
    "                                        top_n=20,\n",
    "                                        fetch_priority=\"superstructures\")"
   ]
  },
  {
   "cell_type": "code",
   "execution_count": 4,
   "metadata": {},
   "outputs": [
    {
     "name": "stdout",
     "output_type": "stream",
     "text": [
      "(10710, 0.2857142857142857)\n"
     ]
    }
   ],
   "source": [
    "for r in reactant_candidates:\n",
    "    display(draw_molecule(reactant_search_pool.loc(r)[\"canonical_smiles\"]))"
   ]
  },
  {
   "cell_type": "code",
   "execution_count": null,
   "metadata": {},
   "outputs": [],
   "source": []
  }
 ],
 "metadata": {
  "kernelspec": {
   "display_name": "Python 3",
   "language": "python",
   "name": "python3"
  },
  "language_info": {
   "codemirror_mode": {
    "name": "ipython",
    "version": 3
   },
   "file_extension": ".py",
   "mimetype": "text/x-python",
   "name": "python",
   "nbconvert_exporter": "python",
   "pygments_lexer": "ipython3",
   "version": "3.6.8"
  }
 },
 "nbformat": 4,
 "nbformat_minor": 2
}
